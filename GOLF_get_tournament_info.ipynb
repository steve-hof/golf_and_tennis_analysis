{
 "cells": [
  {
   "cell_type": "markdown",
   "metadata": {},
   "source": [
    "<h1>GOLF Get Tournament Info</h1>"
   ]
  },
  {
   "cell_type": "code",
   "execution_count": 4,
   "metadata": {
    "collapsed": true
   },
   "outputs": [],
   "source": [
    "import pandas as pd\n",
    "import requests\n",
    "import urllib.request\n",
    "import json"
   ]
  },
  {
   "cell_type": "code",
   "execution_count": 5,
   "metadata": {
    "collapsed": true
   },
   "outputs": [],
   "source": [
    "us_open_2017_json_url = \"https://statdata.pgatour.com/r/026/2017/setup.json\""
   ]
  },
  {
   "cell_type": "code",
   "execution_count": 20,
   "metadata": {},
   "outputs": [],
   "source": [
    "with urllib.request.urlopen(us_open_2017_json_url) as url:\n",
    "    data = json.loads(url.read().decode())"
   ]
  },
  {
   "cell_type": "code",
   "execution_count": 21,
   "metadata": {
    "collapsed": true
   },
   "outputs": [],
   "source": [
    "player_id_dict = {}"
   ]
  },
  {
   "cell_type": "code",
   "execution_count": 22,
   "metadata": {},
   "outputs": [],
   "source": [
    "field_list = data['trn']['field']"
   ]
  },
  {
   "cell_type": "code",
   "execution_count": 24,
   "metadata": {},
   "outputs": [],
   "source": [
    "for player in field_list:\n",
    "    ident = player['id']\n",
    "    last_name = player['name']['last']\n",
    "    first_name = player['name']['first']\n",
    "    full_name = first_name + \" \" + last_name\n",
    "    \n",
    "    player_id_dict[ident] = full_name\n",
    "    "
   ]
  },
  {
   "cell_type": "code",
   "execution_count": 40,
   "metadata": {},
   "outputs": [],
   "source": [
    "cols = \"name id round 1 2 3 4 5 6 7 8 9 10 11 12 13 14 15 16 17 18\".split()"
   ]
  },
  {
   "cell_type": "code",
   "execution_count": 49,
   "metadata": {
    "collapsed": true
   },
   "outputs": [],
   "source": [
    "rounds = ['round_1', 'round_2', 'round_3', 'round_4']\n",
    "pars = []\n",
    "yards_1 = []\n",
    "yards_2 = []\n",
    "yards_3 = []\n",
    "yards_4 = []"
   ]
  },
  {
   "cell_type": "code",
   "execution_count": 50,
   "metadata": {},
   "outputs": [],
   "source": [
    "i = 1\n",
    "for round in data['trn']['rnds']:\n",
    "    for course in round['courses']:\n",
    "        for hole in course['holes']:\n",
    "            if i == 1:\n",
    "                pars.append(hole['par'])\n",
    "                yards_1.append(hole['tee']['yards'])\n",
    "            elif i == 2:\n",
    "                yards_2.append(hole['tee']['yards'])\n",
    "            elif i == 3:\n",
    "                yards_3.append(hole['tee']['yards'])\n",
    "            elif i == 4:\n",
    "                yards_4.append(hole['tee']['yards'])\n",
    "    i += 1"
   ]
  },
  {
   "cell_type": "code",
   "execution_count": 51,
   "metadata": {},
   "outputs": [
    {
     "data": {
      "text/plain": [
       "18"
      ]
     },
     "execution_count": 51,
     "metadata": {},
     "output_type": "execute_result"
    }
   ],
   "source": [
    "len(pars)"
   ]
  },
  {
   "cell_type": "code",
   "execution_count": null,
   "metadata": {
    "collapsed": true
   },
   "outputs": [],
   "source": []
  }
 ],
 "metadata": {
  "kernelspec": {
   "display_name": "Python 3",
   "language": "python",
   "name": "python3"
  },
  "language_info": {
   "codemirror_mode": {
    "name": "ipython",
    "version": 3
   },
   "file_extension": ".py",
   "mimetype": "text/x-python",
   "name": "python",
   "nbconvert_exporter": "python",
   "pygments_lexer": "ipython3",
   "version": "3.6.5"
  }
 },
 "nbformat": 4,
 "nbformat_minor": 2
}
