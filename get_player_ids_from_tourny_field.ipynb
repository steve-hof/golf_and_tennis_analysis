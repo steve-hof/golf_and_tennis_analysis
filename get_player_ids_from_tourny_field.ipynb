{
 "cells": [
  {
   "cell_type": "code",
   "execution_count": 4,
   "metadata": {
    "collapsed": true
   },
   "outputs": [],
   "source": [
    "import pandas as pd\n",
    "import requests\n",
    "import urllib.request\n",
    "import json"
   ]
  },
  {
   "cell_type": "code",
   "execution_count": 5,
   "metadata": {
    "collapsed": true
   },
   "outputs": [],
   "source": [
    "us_open_2017_json_url = \"https://statdata.pgatour.com/r/026/2017/setup.json\""
   ]
  },
  {
   "cell_type": "code",
   "execution_count": 20,
   "metadata": {},
   "outputs": [],
   "source": [
    "with urllib.request.urlopen(us_open_2017_json_url) as url:\n",
    "    data = json.loads(url.read().decode())"
   ]
  },
  {
   "cell_type": "code",
   "execution_count": 21,
   "metadata": {
    "collapsed": true
   },
   "outputs": [],
   "source": [
    "player_id_dict = {}"
   ]
  },
  {
   "cell_type": "code",
   "execution_count": 22,
   "metadata": {},
   "outputs": [],
   "source": [
    "field_list = data['trn']['field']"
   ]
  },
  {
   "cell_type": "code",
   "execution_count": 24,
   "metadata": {},
   "outputs": [],
   "source": [
    "for player in field_list:\n",
    "    ident = player['id']\n",
    "    last_name = player['name']['last']\n",
    "    first_name = player['name']['first']\n",
    "    full_name = first_name + \" \" + last_name\n",
    "    \n",
    "    player_id_dict[ident] = full_name\n",
    "    "
   ]
  },
  {
   "cell_type": "code",
   "execution_count": 25,
   "metadata": {},
   "outputs": [
    {
     "data": {
      "text/plain": [
       "{'02049': 'Gene Sauers',\n",
       " '06522': 'Ernie Els',\n",
       " '06527': 'Steve Stricker',\n",
       " '10809': 'Jim Furyk',\n",
       " '12716': 'Charley Hoffman',\n",
       " '20229': 'Stewart Cink',\n",
       " '20396': 'Lee Westwood',\n",
       " '20848': 'Angel Cabrera',\n",
       " '20850': 'Daniel Chopra',\n",
       " '21209': 'Sergio Garcia',\n",
       " '21498': 'Hideto Tanihara',\n",
       " '21528': 'Henrik Stenson',\n",
       " '22000': 'Chris Wood',\n",
       " '22405': 'Justin Rose',\n",
       " '22582': 'Kyle Thompson',\n",
       " '22983': 'Bradley Dredge',\n",
       " '23108': 'Matt Kuchar',\n",
       " '23320': 'Ryan Palmer',\n",
       " '23821': 'Yusaku Miyazato',\n",
       " '24024': 'Zach Johnson',\n",
       " '24140': \"Sean O'Hair\",\n",
       " '24361': 'Pat Perez',\n",
       " '24461': 'Thomas Aiken',\n",
       " '24502': 'Adam Scott',\n",
       " '24924': 'Bill Haas',\n",
       " '25198': 'Francesco Molinari',\n",
       " '25364': 'Paul Casey',\n",
       " '25396': 'Kevin Na',\n",
       " '25562': 'Andres Romero',\n",
       " '25572': 'Graeme McDowell',\n",
       " '25632': 'Jimmy Walker',\n",
       " '25686': 'Jason Dufner',\n",
       " '25804': 'Bubba Watson',\n",
       " '25818': 'Scott Piercy',\n",
       " '25834': 'Daniel Summerhays',\n",
       " '25900': 'Lucas Glover',\n",
       " '26329': 'Louis Oosthuizen',\n",
       " '26331': 'Charl Schwartzel',\n",
       " '26341': 'Wade Ormsby',\n",
       " '26476': 'Chez Reavie',\n",
       " '26499': 'Rafa Cabrera Bello',\n",
       " '26525': 'Gregory Bourdy',\n",
       " '26851': 'Marc Leishman',\n",
       " '26908': 'Yuta Ikeda',\n",
       " '27064': 'Jhonattan Vegas',\n",
       " '27141': 'J.B. Holmes',\n",
       " '27349': 'Alex Noren',\n",
       " '27408': 'Martin Kaymer',\n",
       " '27556': 'Ted Potter, Jr.',\n",
       " '27561': 'Nick Flanagan',\n",
       " '27644': 'Brian Harman',\n",
       " '27649': 'Brandt Snedeker',\n",
       " '27896': 'Ross Fisher',\n",
       " '27936': 'Martin Laird',\n",
       " '28089': 'Jason Day',\n",
       " '28237': 'Rory McIlroy',\n",
       " '28420': 'Ryan Brehm',\n",
       " '28486': 'Michael Putnam',\n",
       " '28937': 'George Coetzee',\n",
       " '29221': 'Webb Simpson',\n",
       " '29420': 'Billy Horschel',\n",
       " '29454': 'Bernd Wiesberger',\n",
       " '29461': 'Jamie Lovemark',\n",
       " '29478': 'Kevin Kisner',\n",
       " '29484': 'Peter Uihlein',\n",
       " '29518': 'Brendan Steele',\n",
       " '29531': 'Richie Ramsay',\n",
       " '29535': 'Brice Garnett',\n",
       " '29908': 'C.T. Pan',\n",
       " '29974': 'Branden Grace',\n",
       " '30911': 'Tommy Fleetwood',\n",
       " '30925': 'Dustin Johnson',\n",
       " '30944': 'Jason Kokrak',\n",
       " '31202': 'William McGirt',\n",
       " '31323': 'Gary Woodland',\n",
       " '31559': 'Garrett Osborn',\n",
       " '31560': 'Brian Stuard',\n",
       " '31646': 'Emiliano Grillo',\n",
       " '31678': 'Oliver Bekker',\n",
       " '32102': 'Rickie Fowler',\n",
       " '32139': 'Danny Willett',\n",
       " '32200': 'Roberto Castro',\n",
       " '32366': 'Kevin Chappell',\n",
       " '32640': 'Troy Merritt',\n",
       " '32775': 'Shugo Imahira',\n",
       " '32816': 'Satoshi Kodaira',\n",
       " '32839': 'Hideki Matsuyama',\n",
       " '33122': 'Russell Knox',\n",
       " '33141': 'Keegan Bradley',\n",
       " '33204': 'Shane Lowry',\n",
       " '33293': 'Thomas Pieters',\n",
       " '33399': 'Adam Hadwin',\n",
       " '33408': 'Tyson Alexander',\n",
       " '33448': 'Justin Thomas',\n",
       " '33592': 'Andy Pope',\n",
       " '33948': 'Byeong Hun An',\n",
       " '34021': 'Bud Cauley',\n",
       " '34046': 'Jordan Spieth',\n",
       " '34098': 'Russell Henley',\n",
       " '34099': 'Harris English',\n",
       " '34242': 'Andrew Johnston',\n",
       " '34305': 'Daniel Miernicki',\n",
       " '34358': 'Jonathan Randolph',\n",
       " '34360': 'Patrick Reed',\n",
       " '34363': 'Tyrrell Hatton',\n",
       " '34409': 'David Lingmerth',\n",
       " '34579': 'Alexander Levy',\n",
       " '34587': 'Chan Kim',\n",
       " '34709': 'Eddie Pepperell',\n",
       " '35225': 'Brandon Stone',\n",
       " '35296': 'Hao Tong Li',\n",
       " '35376': 'Roberto Diaz',\n",
       " '35947': 'John Oda',\n",
       " '36689': 'Brooks Koepka',\n",
       " '36799': 'Stephan Jaeger',\n",
       " '36884': 'Ben Kohles',\n",
       " '36963': 'Derek Barron',\n",
       " '37275': 'Sam Ryder',\n",
       " '37454': 'Whee Kim',\n",
       " '37455': 'Si Woo Kim',\n",
       " '39004': 'Davis Love IV',\n",
       " '39958': 'Jeunghun Wang',\n",
       " '39997': 'Corey Conners',\n",
       " '40026': 'Daniel Berger',\n",
       " '40098': 'Matthew Fitzpatrick',\n",
       " '40104': 'Joel Stalter',\n",
       " '45486': 'Joaquin Niemann',\n",
       " '46046': 'Scottie Scheffler',\n",
       " '46048': 'Jordan Niebrugge',\n",
       " '46340': 'Alex Smalley',\n",
       " '46402': 'Talor Gooch',\n",
       " '46414': 'Aaron Rai',\n",
       " '46442': 'Maverick McNealy',\n",
       " '46567': 'Paul Dunne',\n",
       " '46601': 'Trey Mullinax',\n",
       " '46970': 'Jon Rahm',\n",
       " '47610': 'Tyler Light',\n",
       " '47622': 'Roman Robledo',\n",
       " '47644': 'Scott Harvey',\n",
       " '47663': 'Kevin Dougherty',\n",
       " '47959': 'Bryson DeChambeau',\n",
       " '47996': 'Jack Maguire',\n",
       " '48081': 'Xander Schauffele',\n",
       " '48084': 'Wesley Bryan',\n",
       " '48887': 'Matt Wallace',\n",
       " '49771': 'J.T. Poston',\n",
       " '49826': 'Brad Dalke',\n",
       " '50488': 'Chris Crawford',\n",
       " '50735': 'Scott Gregory',\n",
       " '51586': 'Stewart Hagestad',\n",
       " '51634': 'Sahith Theegala',\n",
       " '51977': 'Max Greyserman',\n",
       " '52370': 'Mason Andersen',\n",
       " '52371': 'Matthew Campbell',\n",
       " '52372': 'Cameron Champ',\n",
       " '52373': 'Walker Lee'}"
      ]
     },
     "execution_count": 25,
     "metadata": {},
     "output_type": "execute_result"
    }
   ],
   "source": [
    "player_id_dict"
   ]
  },
  {
   "cell_type": "code",
   "execution_count": null,
   "metadata": {
    "collapsed": true
   },
   "outputs": [],
   "source": []
  },
  {
   "cell_type": "code",
   "execution_count": null,
   "metadata": {
    "collapsed": true
   },
   "outputs": [],
   "source": []
  }
 ],
 "metadata": {
  "kernelspec": {
   "display_name": "Python 3",
   "language": "python",
   "name": "python3"
  },
  "language_info": {
   "codemirror_mode": {
    "name": "ipython",
    "version": 3
   },
   "file_extension": ".py",
   "mimetype": "text/x-python",
   "name": "python",
   "nbconvert_exporter": "python",
   "pygments_lexer": "ipython3",
   "version": "3.6.5"
  }
 },
 "nbformat": 4,
 "nbformat_minor": 2
}
